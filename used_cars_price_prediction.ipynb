{
 "cells": [
  {
   "cell_type": "markdown",
   "metadata": {},
   "source": [
    "## Import Necessary Libraries"
   ]
  },
  {
   "cell_type": "code",
   "execution_count": 101,
   "metadata": {},
   "outputs": [],
   "source": [
    "import numpy as np\n",
    "import pandas as pd\n",
    "import matplotlib.pyplot as plt\n",
    "\n",
    "from sklearn.linear_model import LinearRegression"
   ]
  },
  {
   "cell_type": "markdown",
   "metadata": {},
   "source": [
    "## Dataset From Kaggle"
   ]
  },
  {
   "cell_type": "code",
   "execution_count": 102,
   "metadata": {},
   "outputs": [],
   "source": [
    "dataset = pd.read_csv('final_cars_datasets.csv')"
   ]
  },
  {
   "cell_type": "code",
   "execution_count": 103,
   "metadata": {},
   "outputs": [
    {
     "data": {
      "text/html": [
       "<div>\n",
       "<style scoped>\n",
       "    .dataframe tbody tr th:only-of-type {\n",
       "        vertical-align: middle;\n",
       "    }\n",
       "\n",
       "    .dataframe tbody tr th {\n",
       "        vertical-align: top;\n",
       "    }\n",
       "\n",
       "    .dataframe thead th {\n",
       "        text-align: right;\n",
       "    }\n",
       "</style>\n",
       "<table border=\"1\" class=\"dataframe\">\n",
       "  <thead>\n",
       "    <tr style=\"text-align: right;\">\n",
       "      <th></th>\n",
       "      <th>Unnamed: 0</th>\n",
       "      <th>price</th>\n",
       "      <th>mark</th>\n",
       "      <th>model</th>\n",
       "      <th>year</th>\n",
       "      <th>mileage</th>\n",
       "      <th>engine_capacity</th>\n",
       "      <th>transmission</th>\n",
       "      <th>drive</th>\n",
       "      <th>hand_drive</th>\n",
       "      <th>fuel</th>\n",
       "    </tr>\n",
       "  </thead>\n",
       "  <tbody>\n",
       "    <tr>\n",
       "      <th>0</th>\n",
       "      <td>0</td>\n",
       "      <td>80</td>\n",
       "      <td>nissan</td>\n",
       "      <td>march</td>\n",
       "      <td>2003</td>\n",
       "      <td>80000</td>\n",
       "      <td>1240</td>\n",
       "      <td>at</td>\n",
       "      <td>2wd</td>\n",
       "      <td>rhd</td>\n",
       "      <td>gasoline</td>\n",
       "    </tr>\n",
       "    <tr>\n",
       "      <th>1</th>\n",
       "      <td>1</td>\n",
       "      <td>110</td>\n",
       "      <td>nissan</td>\n",
       "      <td>march</td>\n",
       "      <td>2010</td>\n",
       "      <td>53000</td>\n",
       "      <td>1200</td>\n",
       "      <td>at</td>\n",
       "      <td>2wd</td>\n",
       "      <td>rhd</td>\n",
       "      <td>gasoline</td>\n",
       "    </tr>\n",
       "    <tr>\n",
       "      <th>2</th>\n",
       "      <td>2</td>\n",
       "      <td>165</td>\n",
       "      <td>nissan</td>\n",
       "      <td>lafesta</td>\n",
       "      <td>2005</td>\n",
       "      <td>47690</td>\n",
       "      <td>2000</td>\n",
       "      <td>at</td>\n",
       "      <td>2wd</td>\n",
       "      <td>rhd</td>\n",
       "      <td>gasoline</td>\n",
       "    </tr>\n",
       "    <tr>\n",
       "      <th>3</th>\n",
       "      <td>3</td>\n",
       "      <td>190</td>\n",
       "      <td>toyota</td>\n",
       "      <td>avensis</td>\n",
       "      <td>2008</td>\n",
       "      <td>130661</td>\n",
       "      <td>1990</td>\n",
       "      <td>at</td>\n",
       "      <td>2wd</td>\n",
       "      <td>rhd</td>\n",
       "      <td>gasoline</td>\n",
       "    </tr>\n",
       "    <tr>\n",
       "      <th>4</th>\n",
       "      <td>4</td>\n",
       "      <td>190</td>\n",
       "      <td>daihatsu</td>\n",
       "      <td>mira</td>\n",
       "      <td>2006</td>\n",
       "      <td>66300</td>\n",
       "      <td>660</td>\n",
       "      <td>at</td>\n",
       "      <td>2wd</td>\n",
       "      <td>rhd</td>\n",
       "      <td>gasoline</td>\n",
       "    </tr>\n",
       "    <tr>\n",
       "      <th>...</th>\n",
       "      <td>...</td>\n",
       "      <td>...</td>\n",
       "      <td>...</td>\n",
       "      <td>...</td>\n",
       "      <td>...</td>\n",
       "      <td>...</td>\n",
       "      <td>...</td>\n",
       "      <td>...</td>\n",
       "      <td>...</td>\n",
       "      <td>...</td>\n",
       "      <td>...</td>\n",
       "    </tr>\n",
       "    <tr>\n",
       "      <th>2313</th>\n",
       "      <td>2331</td>\n",
       "      <td>1400</td>\n",
       "      <td>toyota</td>\n",
       "      <td>vitz</td>\n",
       "      <td>2009</td>\n",
       "      <td>121000</td>\n",
       "      <td>996</td>\n",
       "      <td>at</td>\n",
       "      <td>2wd</td>\n",
       "      <td>rhd</td>\n",
       "      <td>gasoline</td>\n",
       "    </tr>\n",
       "    <tr>\n",
       "      <th>2314</th>\n",
       "      <td>2332</td>\n",
       "      <td>1400</td>\n",
       "      <td>toyota</td>\n",
       "      <td>estima</td>\n",
       "      <td>2003</td>\n",
       "      <td>101000</td>\n",
       "      <td>3000</td>\n",
       "      <td>at</td>\n",
       "      <td>2wd</td>\n",
       "      <td>rhd</td>\n",
       "      <td>gasoline</td>\n",
       "    </tr>\n",
       "    <tr>\n",
       "      <th>2315</th>\n",
       "      <td>2333</td>\n",
       "      <td>1400</td>\n",
       "      <td>subaru</td>\n",
       "      <td>r2</td>\n",
       "      <td>2005</td>\n",
       "      <td>101000</td>\n",
       "      <td>660</td>\n",
       "      <td>cvt</td>\n",
       "      <td>2wd</td>\n",
       "      <td>rhd</td>\n",
       "      <td>gasoline</td>\n",
       "    </tr>\n",
       "    <tr>\n",
       "      <th>2316</th>\n",
       "      <td>2334</td>\n",
       "      <td>1400</td>\n",
       "      <td>honda</td>\n",
       "      <td>z</td>\n",
       "      <td>2000</td>\n",
       "      <td>170000</td>\n",
       "      <td>660</td>\n",
       "      <td>at</td>\n",
       "      <td>4wd</td>\n",
       "      <td>rhd</td>\n",
       "      <td>gasoline</td>\n",
       "    </tr>\n",
       "    <tr>\n",
       "      <th>2317</th>\n",
       "      <td>2335</td>\n",
       "      <td>1400</td>\n",
       "      <td>toyota</td>\n",
       "      <td>estima t</td>\n",
       "      <td>2005</td>\n",
       "      <td>72320</td>\n",
       "      <td>3000</td>\n",
       "      <td>at</td>\n",
       "      <td>2wd</td>\n",
       "      <td>rhd</td>\n",
       "      <td>gasoline</td>\n",
       "    </tr>\n",
       "  </tbody>\n",
       "</table>\n",
       "<p>2318 rows × 11 columns</p>\n",
       "</div>"
      ],
      "text/plain": [
       "      Unnamed: 0  price      mark     model  year  mileage  engine_capacity  \\\n",
       "0              0     80    nissan     march  2003    80000             1240   \n",
       "1              1    110    nissan     march  2010    53000             1200   \n",
       "2              2    165    nissan   lafesta  2005    47690             2000   \n",
       "3              3    190    toyota   avensis  2008   130661             1990   \n",
       "4              4    190  daihatsu      mira  2006    66300              660   \n",
       "...          ...    ...       ...       ...   ...      ...              ...   \n",
       "2313        2331   1400    toyota      vitz  2009   121000              996   \n",
       "2314        2332   1400    toyota    estima  2003   101000             3000   \n",
       "2315        2333   1400    subaru        r2  2005   101000              660   \n",
       "2316        2334   1400     honda         z  2000   170000              660   \n",
       "2317        2335   1400    toyota  estima t  2005    72320             3000   \n",
       "\n",
       "     transmission drive hand_drive      fuel  \n",
       "0              at   2wd        rhd  gasoline  \n",
       "1              at   2wd        rhd  gasoline  \n",
       "2              at   2wd        rhd  gasoline  \n",
       "3              at   2wd        rhd  gasoline  \n",
       "4              at   2wd        rhd  gasoline  \n",
       "...           ...   ...        ...       ...  \n",
       "2313           at   2wd        rhd  gasoline  \n",
       "2314           at   2wd        rhd  gasoline  \n",
       "2315          cvt   2wd        rhd  gasoline  \n",
       "2316           at   4wd        rhd  gasoline  \n",
       "2317           at   2wd        rhd  gasoline  \n",
       "\n",
       "[2318 rows x 11 columns]"
      ]
     },
     "execution_count": 103,
     "metadata": {},
     "output_type": "execute_result"
    }
   ],
   "source": [
    "dataset"
   ]
  },
  {
   "cell_type": "code",
   "execution_count": 104,
   "metadata": {},
   "outputs": [
    {
     "data": {
      "text/plain": [
       "Index(['Unnamed: 0', 'price', 'mark', 'model', 'year', 'mileage',\n",
       "       'engine_capacity', 'transmission', 'drive', 'hand_drive', 'fuel'],\n",
       "      dtype='object')"
      ]
     },
     "execution_count": 104,
     "metadata": {},
     "output_type": "execute_result"
    }
   ],
   "source": [
    "dataset.columns"
   ]
  },
  {
   "cell_type": "markdown",
   "metadata": {},
   "source": [
    "## Remove the first unnecessary column"
   ]
  },
  {
   "cell_type": "code",
   "execution_count": 105,
   "metadata": {},
   "outputs": [],
   "source": [
    "dataset.drop('Unnamed: 0',axis=1,inplace=True)"
   ]
  },
  {
   "cell_type": "code",
   "execution_count": 106,
   "metadata": {},
   "outputs": [
    {
     "data": {
      "text/html": [
       "<div>\n",
       "<style scoped>\n",
       "    .dataframe tbody tr th:only-of-type {\n",
       "        vertical-align: middle;\n",
       "    }\n",
       "\n",
       "    .dataframe tbody tr th {\n",
       "        vertical-align: top;\n",
       "    }\n",
       "\n",
       "    .dataframe thead th {\n",
       "        text-align: right;\n",
       "    }\n",
       "</style>\n",
       "<table border=\"1\" class=\"dataframe\">\n",
       "  <thead>\n",
       "    <tr style=\"text-align: right;\">\n",
       "      <th></th>\n",
       "      <th>price</th>\n",
       "      <th>mark</th>\n",
       "      <th>model</th>\n",
       "      <th>year</th>\n",
       "      <th>mileage</th>\n",
       "      <th>engine_capacity</th>\n",
       "      <th>transmission</th>\n",
       "      <th>drive</th>\n",
       "      <th>hand_drive</th>\n",
       "      <th>fuel</th>\n",
       "    </tr>\n",
       "  </thead>\n",
       "  <tbody>\n",
       "    <tr>\n",
       "      <th>0</th>\n",
       "      <td>80</td>\n",
       "      <td>nissan</td>\n",
       "      <td>march</td>\n",
       "      <td>2003</td>\n",
       "      <td>80000</td>\n",
       "      <td>1240</td>\n",
       "      <td>at</td>\n",
       "      <td>2wd</td>\n",
       "      <td>rhd</td>\n",
       "      <td>gasoline</td>\n",
       "    </tr>\n",
       "    <tr>\n",
       "      <th>1</th>\n",
       "      <td>110</td>\n",
       "      <td>nissan</td>\n",
       "      <td>march</td>\n",
       "      <td>2010</td>\n",
       "      <td>53000</td>\n",
       "      <td>1200</td>\n",
       "      <td>at</td>\n",
       "      <td>2wd</td>\n",
       "      <td>rhd</td>\n",
       "      <td>gasoline</td>\n",
       "    </tr>\n",
       "    <tr>\n",
       "      <th>2</th>\n",
       "      <td>165</td>\n",
       "      <td>nissan</td>\n",
       "      <td>lafesta</td>\n",
       "      <td>2005</td>\n",
       "      <td>47690</td>\n",
       "      <td>2000</td>\n",
       "      <td>at</td>\n",
       "      <td>2wd</td>\n",
       "      <td>rhd</td>\n",
       "      <td>gasoline</td>\n",
       "    </tr>\n",
       "    <tr>\n",
       "      <th>3</th>\n",
       "      <td>190</td>\n",
       "      <td>toyota</td>\n",
       "      <td>avensis</td>\n",
       "      <td>2008</td>\n",
       "      <td>130661</td>\n",
       "      <td>1990</td>\n",
       "      <td>at</td>\n",
       "      <td>2wd</td>\n",
       "      <td>rhd</td>\n",
       "      <td>gasoline</td>\n",
       "    </tr>\n",
       "    <tr>\n",
       "      <th>4</th>\n",
       "      <td>190</td>\n",
       "      <td>daihatsu</td>\n",
       "      <td>mira</td>\n",
       "      <td>2006</td>\n",
       "      <td>66300</td>\n",
       "      <td>660</td>\n",
       "      <td>at</td>\n",
       "      <td>2wd</td>\n",
       "      <td>rhd</td>\n",
       "      <td>gasoline</td>\n",
       "    </tr>\n",
       "    <tr>\n",
       "      <th>...</th>\n",
       "      <td>...</td>\n",
       "      <td>...</td>\n",
       "      <td>...</td>\n",
       "      <td>...</td>\n",
       "      <td>...</td>\n",
       "      <td>...</td>\n",
       "      <td>...</td>\n",
       "      <td>...</td>\n",
       "      <td>...</td>\n",
       "      <td>...</td>\n",
       "    </tr>\n",
       "    <tr>\n",
       "      <th>2313</th>\n",
       "      <td>1400</td>\n",
       "      <td>toyota</td>\n",
       "      <td>vitz</td>\n",
       "      <td>2009</td>\n",
       "      <td>121000</td>\n",
       "      <td>996</td>\n",
       "      <td>at</td>\n",
       "      <td>2wd</td>\n",
       "      <td>rhd</td>\n",
       "      <td>gasoline</td>\n",
       "    </tr>\n",
       "    <tr>\n",
       "      <th>2314</th>\n",
       "      <td>1400</td>\n",
       "      <td>toyota</td>\n",
       "      <td>estima</td>\n",
       "      <td>2003</td>\n",
       "      <td>101000</td>\n",
       "      <td>3000</td>\n",
       "      <td>at</td>\n",
       "      <td>2wd</td>\n",
       "      <td>rhd</td>\n",
       "      <td>gasoline</td>\n",
       "    </tr>\n",
       "    <tr>\n",
       "      <th>2315</th>\n",
       "      <td>1400</td>\n",
       "      <td>subaru</td>\n",
       "      <td>r2</td>\n",
       "      <td>2005</td>\n",
       "      <td>101000</td>\n",
       "      <td>660</td>\n",
       "      <td>cvt</td>\n",
       "      <td>2wd</td>\n",
       "      <td>rhd</td>\n",
       "      <td>gasoline</td>\n",
       "    </tr>\n",
       "    <tr>\n",
       "      <th>2316</th>\n",
       "      <td>1400</td>\n",
       "      <td>honda</td>\n",
       "      <td>z</td>\n",
       "      <td>2000</td>\n",
       "      <td>170000</td>\n",
       "      <td>660</td>\n",
       "      <td>at</td>\n",
       "      <td>4wd</td>\n",
       "      <td>rhd</td>\n",
       "      <td>gasoline</td>\n",
       "    </tr>\n",
       "    <tr>\n",
       "      <th>2317</th>\n",
       "      <td>1400</td>\n",
       "      <td>toyota</td>\n",
       "      <td>estima t</td>\n",
       "      <td>2005</td>\n",
       "      <td>72320</td>\n",
       "      <td>3000</td>\n",
       "      <td>at</td>\n",
       "      <td>2wd</td>\n",
       "      <td>rhd</td>\n",
       "      <td>gasoline</td>\n",
       "    </tr>\n",
       "  </tbody>\n",
       "</table>\n",
       "<p>2318 rows × 10 columns</p>\n",
       "</div>"
      ],
      "text/plain": [
       "      price      mark     model  year  mileage  engine_capacity transmission  \\\n",
       "0        80    nissan     march  2003    80000             1240           at   \n",
       "1       110    nissan     march  2010    53000             1200           at   \n",
       "2       165    nissan   lafesta  2005    47690             2000           at   \n",
       "3       190    toyota   avensis  2008   130661             1990           at   \n",
       "4       190  daihatsu      mira  2006    66300              660           at   \n",
       "...     ...       ...       ...   ...      ...              ...          ...   \n",
       "2313   1400    toyota      vitz  2009   121000              996           at   \n",
       "2314   1400    toyota    estima  2003   101000             3000           at   \n",
       "2315   1400    subaru        r2  2005   101000              660          cvt   \n",
       "2316   1400     honda         z  2000   170000              660           at   \n",
       "2317   1400    toyota  estima t  2005    72320             3000           at   \n",
       "\n",
       "     drive hand_drive      fuel  \n",
       "0      2wd        rhd  gasoline  \n",
       "1      2wd        rhd  gasoline  \n",
       "2      2wd        rhd  gasoline  \n",
       "3      2wd        rhd  gasoline  \n",
       "4      2wd        rhd  gasoline  \n",
       "...    ...        ...       ...  \n",
       "2313   2wd        rhd  gasoline  \n",
       "2314   2wd        rhd  gasoline  \n",
       "2315   2wd        rhd  gasoline  \n",
       "2316   4wd        rhd  gasoline  \n",
       "2317   2wd        rhd  gasoline  \n",
       "\n",
       "[2318 rows x 10 columns]"
      ]
     },
     "execution_count": 106,
     "metadata": {},
     "output_type": "execute_result"
    }
   ],
   "source": [
    "dataset"
   ]
  },
  {
   "cell_type": "markdown",
   "metadata": {},
   "source": [
    "# EDA\n",
    "\n",
    "## Looking at various quantitative columns"
   ]
  },
  {
   "cell_type": "code",
   "execution_count": 107,
   "metadata": {},
   "outputs": [
    {
     "data": {
      "text/html": [
       "<div>\n",
       "<style scoped>\n",
       "    .dataframe tbody tr th:only-of-type {\n",
       "        vertical-align: middle;\n",
       "    }\n",
       "\n",
       "    .dataframe tbody tr th {\n",
       "        vertical-align: top;\n",
       "    }\n",
       "\n",
       "    .dataframe thead th {\n",
       "        text-align: right;\n",
       "    }\n",
       "</style>\n",
       "<table border=\"1\" class=\"dataframe\">\n",
       "  <thead>\n",
       "    <tr style=\"text-align: right;\">\n",
       "      <th></th>\n",
       "      <th>price</th>\n",
       "      <th>year</th>\n",
       "      <th>mileage</th>\n",
       "      <th>engine_capacity</th>\n",
       "    </tr>\n",
       "  </thead>\n",
       "  <tbody>\n",
       "    <tr>\n",
       "      <th>count</th>\n",
       "      <td>2318.000000</td>\n",
       "      <td>2318.000000</td>\n",
       "      <td>2318.000000</td>\n",
       "      <td>2318.000000</td>\n",
       "    </tr>\n",
       "    <tr>\n",
       "      <th>mean</th>\n",
       "      <td>971.522433</td>\n",
       "      <td>2005.972390</td>\n",
       "      <td>100013.194996</td>\n",
       "      <td>1507.010785</td>\n",
       "    </tr>\n",
       "    <tr>\n",
       "      <th>std</th>\n",
       "      <td>288.673112</td>\n",
       "      <td>3.698863</td>\n",
       "      <td>52512.478883</td>\n",
       "      <td>549.585170</td>\n",
       "    </tr>\n",
       "    <tr>\n",
       "      <th>min</th>\n",
       "      <td>80.000000</td>\n",
       "      <td>1979.000000</td>\n",
       "      <td>2000.000000</td>\n",
       "      <td>9.000000</td>\n",
       "    </tr>\n",
       "    <tr>\n",
       "      <th>25%</th>\n",
       "      <td>776.000000</td>\n",
       "      <td>2004.000000</td>\n",
       "      <td>67000.000000</td>\n",
       "      <td>1300.000000</td>\n",
       "    </tr>\n",
       "    <tr>\n",
       "      <th>50%</th>\n",
       "      <td>1000.000000</td>\n",
       "      <td>2006.000000</td>\n",
       "      <td>94000.000000</td>\n",
       "      <td>1490.000000</td>\n",
       "    </tr>\n",
       "    <tr>\n",
       "      <th>75%</th>\n",
       "      <td>1213.000000</td>\n",
       "      <td>2009.000000</td>\n",
       "      <td>124000.000000</td>\n",
       "      <td>1800.000000</td>\n",
       "    </tr>\n",
       "    <tr>\n",
       "      <th>max</th>\n",
       "      <td>1400.000000</td>\n",
       "      <td>2015.000000</td>\n",
       "      <td>790000.000000</td>\n",
       "      <td>12340.000000</td>\n",
       "    </tr>\n",
       "  </tbody>\n",
       "</table>\n",
       "</div>"
      ],
      "text/plain": [
       "             price         year        mileage  engine_capacity\n",
       "count  2318.000000  2318.000000    2318.000000      2318.000000\n",
       "mean    971.522433  2005.972390  100013.194996      1507.010785\n",
       "std     288.673112     3.698863   52512.478883       549.585170\n",
       "min      80.000000  1979.000000    2000.000000         9.000000\n",
       "25%     776.000000  2004.000000   67000.000000      1300.000000\n",
       "50%    1000.000000  2006.000000   94000.000000      1490.000000\n",
       "75%    1213.000000  2009.000000  124000.000000      1800.000000\n",
       "max    1400.000000  2015.000000  790000.000000     12340.000000"
      ]
     },
     "execution_count": 107,
     "metadata": {},
     "output_type": "execute_result"
    }
   ],
   "source": [
    "dataset.describe()"
   ]
  },
  {
   "cell_type": "markdown",
   "metadata": {},
   "source": [
    "## The Correlation Coefficient between various quantitative variables"
   ]
  },
  {
   "cell_type": "code",
   "execution_count": 108,
   "metadata": {},
   "outputs": [
    {
     "data": {
      "text/html": [
       "<div>\n",
       "<style scoped>\n",
       "    .dataframe tbody tr th:only-of-type {\n",
       "        vertical-align: middle;\n",
       "    }\n",
       "\n",
       "    .dataframe tbody tr th {\n",
       "        vertical-align: top;\n",
       "    }\n",
       "\n",
       "    .dataframe thead th {\n",
       "        text-align: right;\n",
       "    }\n",
       "</style>\n",
       "<table border=\"1\" class=\"dataframe\">\n",
       "  <thead>\n",
       "    <tr style=\"text-align: right;\">\n",
       "      <th></th>\n",
       "      <th>price</th>\n",
       "      <th>year</th>\n",
       "      <th>mileage</th>\n",
       "      <th>engine_capacity</th>\n",
       "    </tr>\n",
       "  </thead>\n",
       "  <tbody>\n",
       "    <tr>\n",
       "      <th>price</th>\n",
       "      <td>1.000000</td>\n",
       "      <td>-0.211092</td>\n",
       "      <td>0.021581</td>\n",
       "      <td>0.173748</td>\n",
       "    </tr>\n",
       "    <tr>\n",
       "      <th>year</th>\n",
       "      <td>-0.211092</td>\n",
       "      <td>1.000000</td>\n",
       "      <td>0.086065</td>\n",
       "      <td>-0.142460</td>\n",
       "    </tr>\n",
       "    <tr>\n",
       "      <th>mileage</th>\n",
       "      <td>0.021581</td>\n",
       "      <td>0.086065</td>\n",
       "      <td>1.000000</td>\n",
       "      <td>0.130362</td>\n",
       "    </tr>\n",
       "    <tr>\n",
       "      <th>engine_capacity</th>\n",
       "      <td>0.173748</td>\n",
       "      <td>-0.142460</td>\n",
       "      <td>0.130362</td>\n",
       "      <td>1.000000</td>\n",
       "    </tr>\n",
       "  </tbody>\n",
       "</table>\n",
       "</div>"
      ],
      "text/plain": [
       "                    price      year   mileage  engine_capacity\n",
       "price            1.000000 -0.211092  0.021581         0.173748\n",
       "year            -0.211092  1.000000  0.086065        -0.142460\n",
       "mileage          0.021581  0.086065  1.000000         0.130362\n",
       "engine_capacity  0.173748 -0.142460  0.130362         1.000000"
      ]
     },
     "execution_count": 108,
     "metadata": {},
     "output_type": "execute_result"
    }
   ],
   "source": [
    "dataset.corr()"
   ]
  },
  {
   "cell_type": "markdown",
   "metadata": {},
   "source": [
    "Looks like the quantitative variables have weak relationship with price as the correlation coefficient are in between 0.0 and 0.3 "
   ]
  },
  {
   "cell_type": "markdown",
   "metadata": {},
   "source": [
    "## Checking for Null Values"
   ]
  },
  {
   "cell_type": "code",
   "execution_count": 111,
   "metadata": {},
   "outputs": [
    {
     "data": {
      "text/plain": [
       "(2318, 10)"
      ]
     },
     "execution_count": 111,
     "metadata": {},
     "output_type": "execute_result"
    }
   ],
   "source": [
    "dataset.shape"
   ]
  },
  {
   "cell_type": "code",
   "execution_count": 112,
   "metadata": {},
   "outputs": [
    {
     "data": {
      "text/plain": [
       "price              0\n",
       "mark               0\n",
       "model              0\n",
       "year               0\n",
       "mileage            0\n",
       "engine_capacity    0\n",
       "transmission       0\n",
       "drive              0\n",
       "hand_drive         0\n",
       "fuel               0\n",
       "dtype: int64"
      ]
     },
     "execution_count": 112,
     "metadata": {},
     "output_type": "execute_result"
    }
   ],
   "source": [
    "dataset.isna().sum()"
   ]
  },
  {
   "cell_type": "code",
   "execution_count": 113,
   "metadata": {},
   "outputs": [
    {
     "data": {
      "text/plain": [
       "price              0\n",
       "mark               0\n",
       "model              0\n",
       "year               0\n",
       "mileage            0\n",
       "engine_capacity    0\n",
       "transmission       0\n",
       "drive              0\n",
       "hand_drive         0\n",
       "fuel               0\n",
       "dtype: int64"
      ]
     },
     "execution_count": 113,
     "metadata": {},
     "output_type": "execute_result"
    }
   ],
   "source": [
    "dataset.isnull().sum()"
   ]
  },
  {
   "cell_type": "markdown",
   "metadata": {},
   "source": [
    " # EDA"
   ]
  },
  {
   "cell_type": "code",
   "execution_count": 116,
   "metadata": {},
   "outputs": [
    {
     "data": {
      "text/plain": [
       "<matplotlib.collections.PathCollection at 0x7f7a4090dd60>"
      ]
     },
     "execution_count": 116,
     "metadata": {},
     "output_type": "execute_result"
    },
    {
     "data": {
      "image/png": "[encoded data removed]",
      "text/plain": [
       "<Figure size 432x288 with 1 Axes>"
      ]
     },
     "metadata": {
      "needs_background": "light"
     },
     "output_type": "display_data"
    }
   ],
   "source": [
    "plt.scatter(dataset['year'],dataset['price'],marker='o')"
   ]
  },
  {
   "cell_type": "code",
   "execution_count": 117,
   "metadata": {},
   "outputs": [
    {
     "data": {
      "text/plain": [
       "<matplotlib.collections.PathCollection at 0x7f7a40908c40>"
      ]
     },
     "execution_count": 117,
     "metadata": {},
     "output_type": "execute_result"
    },
    {
     "data": {
      "image/png": "[encoded data removed]",
      "text/plain": [
       "<Figure size 432x288 with 1 Axes>"
      ]
     },
     "metadata": {
      "needs_background": "light"
     },
     "output_type": "display_data"
    }
   ],
   "source": [
    "plt.scatter(dataset['mileage'],dataset['price'],marker='o')"
   ]
  },
  {
   "cell_type": "code",
   "execution_count": 118,
   "metadata": {},
   "outputs": [
    {
     "data": {
      "text/plain": [
       "<matplotlib.collections.PathCollection at 0x7f7a40552610>"
      ]
     },
     "execution_count": 118,
     "metadata": {},
     "output_type": "execute_result"
    },
    {
     "data": {
      "image/png": "[encoded data removed]",
      "text/plain": [
       "<Figure size 432x288 with 1 Axes>"
      ]
     },
     "metadata": {
      "needs_background": "light"
     },
     "output_type": "display_data"
    }
   ],
   "source": [
    "plt.scatter(dataset['engine_capacity'],dataset['price'],marker='o')"
   ]
  },
  {
   "cell_type": "markdown",
   "metadata": {},
   "source": [
    "## Building a model only using the numerical columns"
   ]
  },
  {
   "cell_type": "code",
   "execution_count": 119,
   "metadata": {},
   "outputs": [],
   "source": [
    "X = dataset[['engine_capacity','year','mileage']]\n",
    "y = dataset[['price']]"
   ]
  },
  {
   "cell_type": "code",
   "execution_count": 120,
   "metadata": {},
   "outputs": [],
   "source": [
    "from sklearn.model_selection import train_test_split\n",
    "X_train,X_test,y_train,y_test= train_test_split(X,y,test_size=0.3)"
   ]
  },
  {
   "cell_type": "code",
   "execution_count": 121,
   "metadata": {},
   "outputs": [],
   "source": [
    "lr = LinearRegression()"
   ]
  },
  {
   "cell_type": "code",
   "execution_count": 122,
   "metadata": {},
   "outputs": [
    {
     "data": {
      "text/plain": [
       "LinearRegression()"
      ]
     },
     "execution_count": 122,
     "metadata": {},
     "output_type": "execute_result"
    }
   ],
   "source": [
    "lr.fit(X_train,y_train)"
   ]
  },
  {
   "cell_type": "code",
   "execution_count": 123,
   "metadata": {},
   "outputs": [
    {
     "data": {
      "text/plain": [
       "array([[ 9.73205598e-02, -1.21249531e+01,  1.04457542e-04]])"
      ]
     },
     "execution_count": 123,
     "metadata": {},
     "output_type": "execute_result"
    }
   ],
   "source": [
    "lr.coef_"
   ]
  },
  {
   "cell_type": "code",
   "execution_count": 124,
   "metadata": {},
   "outputs": [
    {
     "data": {
      "text/plain": [
       "array([25136.29657357])"
      ]
     },
     "execution_count": 124,
     "metadata": {},
     "output_type": "execute_result"
    }
   ],
   "source": [
    "lr.intercept_"
   ]
  },
  {
   "cell_type": "code",
   "execution_count": 125,
   "metadata": {},
   "outputs": [],
   "source": [
    "result = lr.predict(X_test)"
   ]
  },
  {
   "cell_type": "code",
   "execution_count": 126,
   "metadata": {},
   "outputs": [
    {
     "name": "stdout",
     "output_type": "stream",
     "text": [
      "Mean absolute error = 230.37618177979633\n",
      "Mean squared error = 77560.14142237617\n"
     ]
    }
   ],
   "source": [
    "from sklearn.metrics import mean_absolute_error\n",
    "from sklearn.metrics import mean_squared_error\n",
    "print(\"Mean absolute error =\", sklearn.metrics.mean_absolute_error(y_test, result)) \n",
    "print(\"Mean squared error =\", sklearn.metrics.mean_squared_error(y_test,result)) "
   ]
  },
  {
   "cell_type": "markdown",
   "metadata": {},
   "source": [
    "## EDA-2"
   ]
  },
  {
   "cell_type": "code",
   "execution_count": 127,
   "metadata": {},
   "outputs": [
    {
     "data": {
      "text/plain": [
       "Index(['price', 'mark', 'model', 'year', 'mileage', 'engine_capacity',\n",
       "       'transmission', 'drive', 'hand_drive', 'fuel'],\n",
       "      dtype='object')"
      ]
     },
     "execution_count": 127,
     "metadata": {},
     "output_type": "execute_result"
    }
   ],
   "source": [
    "dataset.columns"
   ]
  },
  {
   "cell_type": "code",
   "execution_count": 128,
   "metadata": {},
   "outputs": [
    {
     "data": {
      "text/plain": [
       "price               int64\n",
       "mark               object\n",
       "model              object\n",
       "year                int64\n",
       "mileage             int64\n",
       "engine_capacity     int64\n",
       "transmission       object\n",
       "drive              object\n",
       "hand_drive         object\n",
       "fuel               object\n",
       "dtype: object"
      ]
     },
     "execution_count": 128,
     "metadata": {},
     "output_type": "execute_result"
    }
   ],
   "source": [
    "dataset.dtypes"
   ]
  },
  {
   "cell_type": "markdown",
   "metadata": {},
   "source": [
    "## Finding Unique Value"
   ]
  },
  {
   "cell_type": "code",
   "execution_count": 129,
   "metadata": {},
   "outputs": [
    {
     "name": "stdout",
     "output_type": "stream",
     "text": [
      "mark has values: ['nissan' 'toyota' 'daihatsu' 'volkswagen' 'mazda' 'honda' 'subaru'\n",
      " 'mercedes-benz' 'kubota' 'mitsubishi' 'suzuki' 'bmw' 'chrysler' 'smart'\n",
      " 'gm' 'opel' 'isuzu' 'land rover' 'peugeot' 'hyundai' 'kia motors' 'audi'\n",
      " 'citroen' 'mitsuoka' 'volvo' 'ford' 'hino' 'jaguar']\n",
      "model has values: ['march' 'lafesta' 'avensis' 'mira' 'passat' 'bongo van' 'step wgn'\n",
      " 'sambar' 'inspire' 'mercedes-benz others' 'note' 'passo' 'impreza'\n",
      " 'kubota others' 'life' 'progres' 'cube cubic' 'cube' 'a-class' 'coltplus'\n",
      " 'mr wagon' 'pajero mini' 'fit' 'legacy b4' 'vitz' 'mark ii blit'\n",
      " 'insight' 'move' 'tanto' 'terios kid' 'az-wagon' 'coo' 'verisa' 'swift'\n",
      " 'delica d2' 'tiida' 'sienta' 'mini' 'colt' 'platz' 'bluebird sylphy'\n",
      " 'eclipse' 'bb' 'moco' 'clipper truck' 'esse' 'ek wagon' 'polo' 'x-trail'\n",
      " 'atenza sport' 'ad van' 'pixis space' 'freed spike' 'stream' 'alto'\n",
      " 'raum' 'wish' 'every' 'demio' 'jimny' 'premacy' 'cr-v' 'lapin' 'delica'\n",
      " 'wagon r' 'lancer' 'naked' 'odyssey' 'ractis' 'porte' 'corolla rumion'\n",
      " 'tiida latio' 'voxy' 'carol' 'sunny' 'bongo truck' 'boon' 's-mx'\n",
      " 'pt cruiser' 'golf' 'ad expert' 'fit hybrid' 'serena' 'edix'\n",
      " 'move custom' 'impreza anesis' 'estima' 'carry truck' 'solio' 'mpv'\n",
      " 'vanette van' 'accord' 'tribute' 'pajero io' 'noah' 'vanette truck'\n",
      " 'delica truck' 'lancer cargo' 'atenza wagon' 'atenza' 'vamos' 'r2'\n",
      " 'fun cargo' 'airwave' 'ipsum' 'verossa' 'forfour' 'elgrand' 'ist'\n",
      " 'mirage' 'chevrolet others' 'corolla spacio' 'aerio' 'altezza' 'vectra'\n",
      " 'minicab truck' 'outback' 'mark x' 'gaia' 'alphard' 'caldina' 'alphard g'\n",
      " 'brevis' 'axela sport' 'alphard v' 'pleo' 'minicab van' 'nv100clipper'\n",
      " 'sx4' 'legacy' 'aristo' 'palette' 'wizard' 'forester' 'grand escudo'\n",
      " 'jetta' 'corolla axio' 'discovery' 'stagea' 'dion' 'mira avy' 'mark ii'\n",
      " 'corolla runx' 'hijet cargo' 'biante' 'carol eco' 'axela' 'cami'\n",
      " 'hijet truck' 'e-class' 'hr-v' 'elysion' 'crown comfort' 'canter'\n",
      " 'impreza sportswagon' 'corolla ii' '207' 'sx4 sedan' 'townace van'\n",
      " 'allion' 'passo sette' 'crown' 'civic ferio' 'fuga'\n",
      " 'legacy touring wagon' 'tucson' 'gloria hardtop' '3 series' 'x-trek'\n",
      " 'stella' 'bongo' 'bongo friendee' 'a4' 'a4 avant' 'fit shuttle'\n",
      " 'acty truck' 'sambar truck' 'freed' 'isis' 'exiga' 'skyline' 'allex'\n",
      " 'splash' 'titan dash' 'chaser' 'voltz' 'visto' 'civic hybrid' 'wingroad'\n",
      " 'murano' 'probox' 'c-class' 'corolla sedan' 'xsara picasso' 'rx-8'\n",
      " 'corona premio' 'comfort' 'miragino' 'new beetle' 'viewt' 'canter guts'\n",
      " 'regius wagon' 'v70' 'mira es' 'acty van' 'duet' 'b-class' '307' 'belta'\n",
      " 'otti' 'mini cooper' 'ek sport' 'escudo' 'succeed van' 'atrai wagon'\n",
      " 'atrai' 'zest' 'mdx' 'galant fortis' 'terios' 'clipper van' '1 series'\n",
      " 'townace noah' 'premio' 'outlander' 'opa' 'bongo brawny truck'\n",
      " 'masterace surf' 'move latte' 'santa fe' 'terracan' 'teana' 'cima'\n",
      " 'auris' 'corolla fielder' 'ad' 'freelander' 'town box' 'probox van'\n",
      " 'golf variant' 'windom' 'cerato' 'pride' 'escape' 'landy' 'vivio' 'spade'\n",
      " 'clipper' 'dutro' 'elf truck' 'carina' 'wagon r rr' 'x-type' 'trajet'\n",
      " 'minica' 'c30' 'z' 'estima t']\n",
      "transmission has values: ['at' 'mt' 'cvt']\n",
      "drive has values: ['2wd' '4wd' 'awd']\n",
      "hand_drive has values: ['rhd' 'center' 'lhd']\n",
      "fuel has values: ['gasoline' 'diesel' 'hybrid' 'lpg' 'cng']\n"
     ]
    }
   ],
   "source": [
    "for col in ['mark','model','transmission','drive','hand_drive','fuel']:\n",
    "    print(f\"{col} has values: {dataset[col].unique()}\")"
   ]
  },
  {
   "cell_type": "code",
   "execution_count": 143,
   "metadata": {},
   "outputs": [
    {
     "data": {
      "text/plain": [
       "<AxesSubplot:xlabel='fuel', ylabel='price'>"
      ]
     },
     "execution_count": 143,
     "metadata": {},
     "output_type": "execute_result"
    },
    {
     "data": {
      "image/png": "[encoded data removed]",
      "text/plain": [
       "<Figure size 432x288 with 1 Axes>"
      ]
     },
     "metadata": {
      "needs_background": "light"
     },
     "output_type": "display_data"
    }
   ],
   "source": [
    "sns.boxplot(x='fuel',y='price',data=dataset)"
   ]
  },
  {
   "cell_type": "code",
   "execution_count": 156,
   "metadata": {},
   "outputs": [
    {
     "data": {
      "text/html": [
       "<div>\n",
       "<style scoped>\n",
       "    .dataframe tbody tr th:only-of-type {\n",
       "        vertical-align: middle;\n",
       "    }\n",
       "\n",
       "    .dataframe tbody tr th {\n",
       "        vertical-align: top;\n",
       "    }\n",
       "\n",
       "    .dataframe thead th {\n",
       "        text-align: right;\n",
       "    }\n",
       "</style>\n",
       "<table border=\"1\" class=\"dataframe\">\n",
       "  <thead>\n",
       "    <tr style=\"text-align: right;\">\n",
       "      <th></th>\n",
       "      <th>price</th>\n",
       "      <th>mark</th>\n",
       "      <th>model</th>\n",
       "      <th>year</th>\n",
       "      <th>mileage</th>\n",
       "      <th>engine_capacity</th>\n",
       "      <th>transmission</th>\n",
       "      <th>drive</th>\n",
       "      <th>hand_drive</th>\n",
       "      <th>fuel</th>\n",
       "    </tr>\n",
       "  </thead>\n",
       "  <tbody>\n",
       "    <tr>\n",
       "      <th>1393</th>\n",
       "      <td>1100</td>\n",
       "      <td>toyota</td>\n",
       "      <td>probox</td>\n",
       "      <td>2004</td>\n",
       "      <td>81516</td>\n",
       "      <td>1500</td>\n",
       "      <td>at</td>\n",
       "      <td>2wd</td>\n",
       "      <td>rhd</td>\n",
       "      <td>cng</td>\n",
       "    </tr>\n",
       "  </tbody>\n",
       "</table>\n",
       "</div>"
      ],
      "text/plain": [
       "      price    mark   model  year  mileage  engine_capacity transmission  \\\n",
       "1393   1100  toyota  probox  2004    81516             1500           at   \n",
       "\n",
       "     drive hand_drive fuel  \n",
       "1393   2wd        rhd  cng  "
      ]
     },
     "execution_count": 156,
     "metadata": {},
     "output_type": "execute_result"
    }
   ],
   "source": [
    "dataset[dataset['fuel']=='cng']"
   ]
  },
  {
   "cell_type": "code",
   "execution_count": 147,
   "metadata": {},
   "outputs": [
    {
     "data": {
      "text/plain": [
       "<AxesSubplot:xlabel='hand_drive', ylabel='price'>"
      ]
     },
     "execution_count": 147,
     "metadata": {},
     "output_type": "execute_result"
    },
    {
     "data": {
      "image/png": "[encoded data removed]",
      "text/plain": [
       "<Figure size 432x288 with 1 Axes>"
      ]
     },
     "metadata": {
      "needs_background": "light"
     },
     "output_type": "display_data"
    }
   ],
   "source": [
    "sns.boxplot(x='hand_drive',y='price',data=dataset)"
   ]
  },
  {
   "cell_type": "code",
   "execution_count": 157,
   "metadata": {},
   "outputs": [
    {
     "data": {
      "text/html": [
       "<div>\n",
       "<style scoped>\n",
       "    .dataframe tbody tr th:only-of-type {\n",
       "        vertical-align: middle;\n",
       "    }\n",
       "\n",
       "    .dataframe tbody tr th {\n",
       "        vertical-align: top;\n",
       "    }\n",
       "\n",
       "    .dataframe thead th {\n",
       "        text-align: right;\n",
       "    }\n",
       "</style>\n",
       "<table border=\"1\" class=\"dataframe\">\n",
       "  <thead>\n",
       "    <tr style=\"text-align: right;\">\n",
       "      <th></th>\n",
       "      <th>price</th>\n",
       "      <th>mark</th>\n",
       "      <th>model</th>\n",
       "      <th>year</th>\n",
       "      <th>mileage</th>\n",
       "      <th>engine_capacity</th>\n",
       "      <th>transmission</th>\n",
       "      <th>drive</th>\n",
       "      <th>hand_drive</th>\n",
       "      <th>fuel</th>\n",
       "    </tr>\n",
       "  </thead>\n",
       "  <tbody>\n",
       "    <tr>\n",
       "      <th>23</th>\n",
       "      <td>300</td>\n",
       "      <td>kubota</td>\n",
       "      <td>kubota others</td>\n",
       "      <td>1979</td>\n",
       "      <td>9999</td>\n",
       "      <td>9</td>\n",
       "      <td>mt</td>\n",
       "      <td>4wd</td>\n",
       "      <td>center</td>\n",
       "      <td>diesel</td>\n",
       "    </tr>\n",
       "  </tbody>\n",
       "</table>\n",
       "</div>"
      ],
      "text/plain": [
       "    price    mark          model  year  mileage  engine_capacity transmission  \\\n",
       "23    300  kubota  kubota others  1979     9999                9           mt   \n",
       "\n",
       "   drive hand_drive    fuel  \n",
       "23   4wd     center  diesel  "
      ]
     },
     "execution_count": 157,
     "metadata": {},
     "output_type": "execute_result"
    }
   ],
   "source": [
    "dataset[dataset['hand_drive']=='center']"
   ]
  },
  {
   "cell_type": "code",
   "execution_count": 149,
   "metadata": {},
   "outputs": [
    {
     "data": {
      "text/plain": [
       "<AxesSubplot:xlabel='drive', ylabel='price'>"
      ]
     },
     "execution_count": 149,
     "metadata": {},
     "output_type": "execute_result"
    },
    {
     "data": {
      "image/png": "[encoded data removed]",
      "text/plain": [
       "<Figure size 432x288 with 1 Axes>"
      ]
     },
     "metadata": {
      "needs_background": "light"
     },
     "output_type": "display_data"
    }
   ],
   "source": [
    "sns.boxplot(x='drive',y='price',data=dataset)"
   ]
  },
  {
   "cell_type": "code",
   "execution_count": 151,
   "metadata": {},
   "outputs": [
    {
     "data": {
      "text/plain": [
       "<AxesSubplot:xlabel='transmission', ylabel='price'>"
      ]
     },
     "execution_count": 151,
     "metadata": {},
     "output_type": "execute_result"
    },
    {
     "data": {
      "image/png": "[encoded data removed]",
      "text/plain": [
       "<Figure size 432x288 with 1 Axes>"
      ]
     },
     "metadata": {
      "needs_background": "light"
     },
     "output_type": "display_data"
    }
   ],
   "source": [
    "sns.boxplot(x='transmission',y='price',data=dataset)"
   ]
  },
  {
   "cell_type": "code",
   "execution_count": 153,
   "metadata": {},
   "outputs": [
    {
     "data": {
      "text/plain": [
       "<AxesSubplot:xlabel='mark', ylabel='price'>"
      ]
     },
     "execution_count": 153,
     "metadata": {},
     "output_type": "execute_result"
    },
    {
     "data": {
      "image/png": "[encoded data removed]",
      "text/plain": [
       "<Figure size 432x288 with 1 Axes>"
      ]
     },
     "metadata": {
      "needs_background": "light"
     },
     "output_type": "display_data"
    }
   ],
   "source": [
    "sns.boxplot(x='mark',y='price',data=dataset)"
   ]
  },
  {
   "cell_type": "code",
   "execution_count": 163,
   "metadata": {},
   "outputs": [
    {
     "name": "stderr",
     "output_type": "stream",
     "text": [
      "/home/prabesh013/Desktop/ml/ml_venv/lib/python3.8/site-packages/seaborn/distributions.py:2551: FutureWarning: `distplot` is a deprecated function and will be removed in a future version. Please adapt your code to use either `displot` (a figure-level function with similar flexibility) or `histplot` (an axes-level function for histograms).\n",
      "  warnings.warn(msg, FutureWarning)\n"
     ]
    },
    {
     "data": {
      "text/plain": [
       "<AxesSubplot:xlabel='price', ylabel='Density'>"
      ]
     },
     "execution_count": 163,
     "metadata": {},
     "output_type": "execute_result"
    },
    {
     "data": {
      "image/png": "[encoded data removed]",
      "text/plain": [
       "<Figure size 432x288 with 1 Axes>"
      ]
     },
     "metadata": {
      "needs_background": "light"
     },
     "output_type": "display_data"
    }
   ],
   "source": [
    "sns.distplot(dataset['price'])"
   ]
  },
  {
   "cell_type": "markdown",
   "metadata": {},
   "source": [
    "## Applying One Hot Encoding for Categorical Variables"
   ]
  },
  {
   "cell_type": "code",
   "execution_count": 178,
   "metadata": {},
   "outputs": [
    {
     "data": {
      "text/html": [
       "<div>\n",
       "<style scoped>\n",
       "    .dataframe tbody tr th:only-of-type {\n",
       "        vertical-align: middle;\n",
       "    }\n",
       "\n",
       "    .dataframe tbody tr th {\n",
       "        vertical-align: top;\n",
       "    }\n",
       "\n",
       "    .dataframe thead th {\n",
       "        text-align: right;\n",
       "    }\n",
       "</style>\n",
       "<table border=\"1\" class=\"dataframe\">\n",
       "  <thead>\n",
       "    <tr style=\"text-align: right;\">\n",
       "      <th></th>\n",
       "      <th>price</th>\n",
       "      <th>year</th>\n",
       "      <th>mileage</th>\n",
       "      <th>engine_capacity</th>\n",
       "      <th>mark_audi</th>\n",
       "      <th>mark_bmw</th>\n",
       "      <th>mark_chrysler</th>\n",
       "      <th>mark_citroen</th>\n",
       "      <th>mark_daihatsu</th>\n",
       "      <th>mark_ford</th>\n",
       "      <th>...</th>\n",
       "      <th>drive_4wd</th>\n",
       "      <th>drive_awd</th>\n",
       "      <th>hand_drive_center</th>\n",
       "      <th>hand_drive_lhd</th>\n",
       "      <th>hand_drive_rhd</th>\n",
       "      <th>fuel_cng</th>\n",
       "      <th>fuel_diesel</th>\n",
       "      <th>fuel_gasoline</th>\n",
       "      <th>fuel_hybrid</th>\n",
       "      <th>fuel_lpg</th>\n",
       "    </tr>\n",
       "  </thead>\n",
       "  <tbody>\n",
       "    <tr>\n",
       "      <th>0</th>\n",
       "      <td>80</td>\n",
       "      <td>2003</td>\n",
       "      <td>80000</td>\n",
       "      <td>1240</td>\n",
       "      <td>0</td>\n",
       "      <td>0</td>\n",
       "      <td>0</td>\n",
       "      <td>0</td>\n",
       "      <td>0</td>\n",
       "      <td>0</td>\n",
       "      <td>...</td>\n",
       "      <td>0</td>\n",
       "      <td>0</td>\n",
       "      <td>0</td>\n",
       "      <td>0</td>\n",
       "      <td>1</td>\n",
       "      <td>0</td>\n",
       "      <td>0</td>\n",
       "      <td>1</td>\n",
       "      <td>0</td>\n",
       "      <td>0</td>\n",
       "    </tr>\n",
       "    <tr>\n",
       "      <th>1</th>\n",
       "      <td>110</td>\n",
       "      <td>2010</td>\n",
       "      <td>53000</td>\n",
       "      <td>1200</td>\n",
       "      <td>0</td>\n",
       "      <td>0</td>\n",
       "      <td>0</td>\n",
       "      <td>0</td>\n",
       "      <td>0</td>\n",
       "      <td>0</td>\n",
       "      <td>...</td>\n",
       "      <td>0</td>\n",
       "      <td>0</td>\n",
       "      <td>0</td>\n",
       "      <td>0</td>\n",
       "      <td>1</td>\n",
       "      <td>0</td>\n",
       "      <td>0</td>\n",
       "      <td>1</td>\n",
       "      <td>0</td>\n",
       "      <td>0</td>\n",
       "    </tr>\n",
       "    <tr>\n",
       "      <th>2</th>\n",
       "      <td>165</td>\n",
       "      <td>2005</td>\n",
       "      <td>47690</td>\n",
       "      <td>2000</td>\n",
       "      <td>0</td>\n",
       "      <td>0</td>\n",
       "      <td>0</td>\n",
       "      <td>0</td>\n",
       "      <td>0</td>\n",
       "      <td>0</td>\n",
       "      <td>...</td>\n",
       "      <td>0</td>\n",
       "      <td>0</td>\n",
       "      <td>0</td>\n",
       "      <td>0</td>\n",
       "      <td>1</td>\n",
       "      <td>0</td>\n",
       "      <td>0</td>\n",
       "      <td>1</td>\n",
       "      <td>0</td>\n",
       "      <td>0</td>\n",
       "    </tr>\n",
       "    <tr>\n",
       "      <th>3</th>\n",
       "      <td>190</td>\n",
       "      <td>2008</td>\n",
       "      <td>130661</td>\n",
       "      <td>1990</td>\n",
       "      <td>0</td>\n",
       "      <td>0</td>\n",
       "      <td>0</td>\n",
       "      <td>0</td>\n",
       "      <td>0</td>\n",
       "      <td>0</td>\n",
       "      <td>...</td>\n",
       "      <td>0</td>\n",
       "      <td>0</td>\n",
       "      <td>0</td>\n",
       "      <td>0</td>\n",
       "      <td>1</td>\n",
       "      <td>0</td>\n",
       "      <td>0</td>\n",
       "      <td>1</td>\n",
       "      <td>0</td>\n",
       "      <td>0</td>\n",
       "    </tr>\n",
       "    <tr>\n",
       "      <th>4</th>\n",
       "      <td>190</td>\n",
       "      <td>2006</td>\n",
       "      <td>66300</td>\n",
       "      <td>660</td>\n",
       "      <td>0</td>\n",
       "      <td>0</td>\n",
       "      <td>0</td>\n",
       "      <td>0</td>\n",
       "      <td>1</td>\n",
       "      <td>0</td>\n",
       "      <td>...</td>\n",
       "      <td>0</td>\n",
       "      <td>0</td>\n",
       "      <td>0</td>\n",
       "      <td>0</td>\n",
       "      <td>1</td>\n",
       "      <td>0</td>\n",
       "      <td>0</td>\n",
       "      <td>1</td>\n",
       "      <td>0</td>\n",
       "      <td>0</td>\n",
       "    </tr>\n",
       "  </tbody>\n",
       "</table>\n",
       "<p>5 rows × 304 columns</p>\n",
       "</div>"
      ],
      "text/plain": [
       "   price  year  mileage  engine_capacity  mark_audi  mark_bmw  mark_chrysler  \\\n",
       "0     80  2003    80000             1240          0         0              0   \n",
       "1    110  2010    53000             1200          0         0              0   \n",
       "2    165  2005    47690             2000          0         0              0   \n",
       "3    190  2008   130661             1990          0         0              0   \n",
       "4    190  2006    66300              660          0         0              0   \n",
       "\n",
       "   mark_citroen  mark_daihatsu  mark_ford  ...  drive_4wd  drive_awd  \\\n",
       "0             0              0          0  ...          0          0   \n",
       "1             0              0          0  ...          0          0   \n",
       "2             0              0          0  ...          0          0   \n",
       "3             0              0          0  ...          0          0   \n",
       "4             0              1          0  ...          0          0   \n",
       "\n",
       "   hand_drive_center  hand_drive_lhd  hand_drive_rhd  fuel_cng  fuel_diesel  \\\n",
       "0                  0               0               1         0            0   \n",
       "1                  0               0               1         0            0   \n",
       "2                  0               0               1         0            0   \n",
       "3                  0               0               1         0            0   \n",
       "4                  0               0               1         0            0   \n",
       "\n",
       "   fuel_gasoline  fuel_hybrid  fuel_lpg  \n",
       "0              1            0         0  \n",
       "1              1            0         0  \n",
       "2              1            0         0  \n",
       "3              1            0         0  \n",
       "4              1            0         0  \n",
       "\n",
       "[5 rows x 304 columns]"
      ]
     },
     "execution_count": 178,
     "metadata": {},
     "output_type": "execute_result"
    }
   ],
   "source": [
    "dataset_onehot = dataset.copy()\n",
    "dataset_onehot = pd.get_dummies(dataset_onehot, columns=['mark','model','transmission','drive','hand_drive','fuel'])\n",
    "dataset_onehot.head()"
   ]
  },
  {
   "cell_type": "code",
   "execution_count": 179,
   "metadata": {},
   "outputs": [
    {
     "name": "stdout",
     "output_type": "stream",
     "text": [
      "(2318, 10)\n",
      "(2318, 304)\n"
     ]
    }
   ],
   "source": [
    "print(dataset.shape)\n",
    "print(dataset_onehot.shape)"
   ]
  },
  {
   "cell_type": "markdown",
   "metadata": {},
   "source": [
    "Dimension increased from 10 to 304 while doing One Hot Encoding"
   ]
  },
  {
   "cell_type": "code",
   "execution_count": 180,
   "metadata": {},
   "outputs": [
    {
     "data": {
      "text/html": [
       "<div>\n",
       "<style scoped>\n",
       "    .dataframe tbody tr th:only-of-type {\n",
       "        vertical-align: middle;\n",
       "    }\n",
       "\n",
       "    .dataframe tbody tr th {\n",
       "        vertical-align: top;\n",
       "    }\n",
       "\n",
       "    .dataframe thead th {\n",
       "        text-align: right;\n",
       "    }\n",
       "</style>\n",
       "<table border=\"1\" class=\"dataframe\">\n",
       "  <thead>\n",
       "    <tr style=\"text-align: right;\">\n",
       "      <th></th>\n",
       "      <th>price</th>\n",
       "      <th>year</th>\n",
       "      <th>mileage</th>\n",
       "      <th>engine_capacity</th>\n",
       "      <th>mark_audi</th>\n",
       "      <th>mark_bmw</th>\n",
       "      <th>mark_chrysler</th>\n",
       "      <th>mark_citroen</th>\n",
       "      <th>mark_daihatsu</th>\n",
       "      <th>mark_ford</th>\n",
       "      <th>...</th>\n",
       "      <th>drive_4wd</th>\n",
       "      <th>drive_awd</th>\n",
       "      <th>hand_drive_center</th>\n",
       "      <th>hand_drive_lhd</th>\n",
       "      <th>hand_drive_rhd</th>\n",
       "      <th>fuel_cng</th>\n",
       "      <th>fuel_diesel</th>\n",
       "      <th>fuel_gasoline</th>\n",
       "      <th>fuel_hybrid</th>\n",
       "      <th>fuel_lpg</th>\n",
       "    </tr>\n",
       "  </thead>\n",
       "  <tbody>\n",
       "    <tr>\n",
       "      <th>count</th>\n",
       "      <td>2318.000000</td>\n",
       "      <td>2318.000000</td>\n",
       "      <td>2318.000000</td>\n",
       "      <td>2318.000000</td>\n",
       "      <td>2318.000000</td>\n",
       "      <td>2318.000000</td>\n",
       "      <td>2318.000000</td>\n",
       "      <td>2318.000000</td>\n",
       "      <td>2318.000000</td>\n",
       "      <td>2318.000000</td>\n",
       "      <td>...</td>\n",
       "      <td>2318.000000</td>\n",
       "      <td>2318.000000</td>\n",
       "      <td>2318.000000</td>\n",
       "      <td>2318.000000</td>\n",
       "      <td>2318.000000</td>\n",
       "      <td>2318.000000</td>\n",
       "      <td>2318.000000</td>\n",
       "      <td>2318.000000</td>\n",
       "      <td>2318.000000</td>\n",
       "      <td>2318.000000</td>\n",
       "    </tr>\n",
       "    <tr>\n",
       "      <th>mean</th>\n",
       "      <td>971.522433</td>\n",
       "      <td>2005.972390</td>\n",
       "      <td>100013.194996</td>\n",
       "      <td>1507.010785</td>\n",
       "      <td>0.001294</td>\n",
       "      <td>0.011648</td>\n",
       "      <td>0.000431</td>\n",
       "      <td>0.000431</td>\n",
       "      <td>0.024159</td>\n",
       "      <td>0.000431</td>\n",
       "      <td>...</td>\n",
       "      <td>0.082830</td>\n",
       "      <td>0.002157</td>\n",
       "      <td>0.000431</td>\n",
       "      <td>0.006903</td>\n",
       "      <td>0.992666</td>\n",
       "      <td>0.000431</td>\n",
       "      <td>0.007765</td>\n",
       "      <td>0.987921</td>\n",
       "      <td>0.000863</td>\n",
       "      <td>0.003020</td>\n",
       "    </tr>\n",
       "    <tr>\n",
       "      <th>std</th>\n",
       "      <td>288.673112</td>\n",
       "      <td>3.698863</td>\n",
       "      <td>52512.478883</td>\n",
       "      <td>549.585170</td>\n",
       "      <td>0.035960</td>\n",
       "      <td>0.107319</td>\n",
       "      <td>0.020770</td>\n",
       "      <td>0.020770</td>\n",
       "      <td>0.153575</td>\n",
       "      <td>0.020770</td>\n",
       "      <td>...</td>\n",
       "      <td>0.275685</td>\n",
       "      <td>0.046404</td>\n",
       "      <td>0.020770</td>\n",
       "      <td>0.082812</td>\n",
       "      <td>0.085342</td>\n",
       "      <td>0.020770</td>\n",
       "      <td>0.087797</td>\n",
       "      <td>0.109264</td>\n",
       "      <td>0.029367</td>\n",
       "      <td>0.054882</td>\n",
       "    </tr>\n",
       "    <tr>\n",
       "      <th>min</th>\n",
       "      <td>80.000000</td>\n",
       "      <td>1979.000000</td>\n",
       "      <td>2000.000000</td>\n",
       "      <td>9.000000</td>\n",
       "      <td>0.000000</td>\n",
       "      <td>0.000000</td>\n",
       "      <td>0.000000</td>\n",
       "      <td>0.000000</td>\n",
       "      <td>0.000000</td>\n",
       "      <td>0.000000</td>\n",
       "      <td>...</td>\n",
       "      <td>0.000000</td>\n",
       "      <td>0.000000</td>\n",
       "      <td>0.000000</td>\n",
       "      <td>0.000000</td>\n",
       "      <td>0.000000</td>\n",
       "      <td>0.000000</td>\n",
       "      <td>0.000000</td>\n",
       "      <td>0.000000</td>\n",
       "      <td>0.000000</td>\n",
       "      <td>0.000000</td>\n",
       "    </tr>\n",
       "    <tr>\n",
       "      <th>25%</th>\n",
       "      <td>776.000000</td>\n",
       "      <td>2004.000000</td>\n",
       "      <td>67000.000000</td>\n",
       "      <td>1300.000000</td>\n",
       "      <td>0.000000</td>\n",
       "      <td>0.000000</td>\n",
       "      <td>0.000000</td>\n",
       "      <td>0.000000</td>\n",
       "      <td>0.000000</td>\n",
       "      <td>0.000000</td>\n",
       "      <td>...</td>\n",
       "      <td>0.000000</td>\n",
       "      <td>0.000000</td>\n",
       "      <td>0.000000</td>\n",
       "      <td>0.000000</td>\n",
       "      <td>1.000000</td>\n",
       "      <td>0.000000</td>\n",
       "      <td>0.000000</td>\n",
       "      <td>1.000000</td>\n",
       "      <td>0.000000</td>\n",
       "      <td>0.000000</td>\n",
       "    </tr>\n",
       "    <tr>\n",
       "      <th>50%</th>\n",
       "      <td>1000.000000</td>\n",
       "      <td>2006.000000</td>\n",
       "      <td>94000.000000</td>\n",
       "      <td>1490.000000</td>\n",
       "      <td>0.000000</td>\n",
       "      <td>0.000000</td>\n",
       "      <td>0.000000</td>\n",
       "      <td>0.000000</td>\n",
       "      <td>0.000000</td>\n",
       "      <td>0.000000</td>\n",
       "      <td>...</td>\n",
       "      <td>0.000000</td>\n",
       "      <td>0.000000</td>\n",
       "      <td>0.000000</td>\n",
       "      <td>0.000000</td>\n",
       "      <td>1.000000</td>\n",
       "      <td>0.000000</td>\n",
       "      <td>0.000000</td>\n",
       "      <td>1.000000</td>\n",
       "      <td>0.000000</td>\n",
       "      <td>0.000000</td>\n",
       "    </tr>\n",
       "    <tr>\n",
       "      <th>75%</th>\n",
       "      <td>1213.000000</td>\n",
       "      <td>2009.000000</td>\n",
       "      <td>124000.000000</td>\n",
       "      <td>1800.000000</td>\n",
       "      <td>0.000000</td>\n",
       "      <td>0.000000</td>\n",
       "      <td>0.000000</td>\n",
       "      <td>0.000000</td>\n",
       "      <td>0.000000</td>\n",
       "      <td>0.000000</td>\n",
       "      <td>...</td>\n",
       "      <td>0.000000</td>\n",
       "      <td>0.000000</td>\n",
       "      <td>0.000000</td>\n",
       "      <td>0.000000</td>\n",
       "      <td>1.000000</td>\n",
       "      <td>0.000000</td>\n",
       "      <td>0.000000</td>\n",
       "      <td>1.000000</td>\n",
       "      <td>0.000000</td>\n",
       "      <td>0.000000</td>\n",
       "    </tr>\n",
       "    <tr>\n",
       "      <th>max</th>\n",
       "      <td>1400.000000</td>\n",
       "      <td>2015.000000</td>\n",
       "      <td>790000.000000</td>\n",
       "      <td>12340.000000</td>\n",
       "      <td>1.000000</td>\n",
       "      <td>1.000000</td>\n",
       "      <td>1.000000</td>\n",
       "      <td>1.000000</td>\n",
       "      <td>1.000000</td>\n",
       "      <td>1.000000</td>\n",
       "      <td>...</td>\n",
       "      <td>1.000000</td>\n",
       "      <td>1.000000</td>\n",
       "      <td>1.000000</td>\n",
       "      <td>1.000000</td>\n",
       "      <td>1.000000</td>\n",
       "      <td>1.000000</td>\n",
       "      <td>1.000000</td>\n",
       "      <td>1.000000</td>\n",
       "      <td>1.000000</td>\n",
       "      <td>1.000000</td>\n",
       "    </tr>\n",
       "  </tbody>\n",
       "</table>\n",
       "<p>8 rows × 304 columns</p>\n",
       "</div>"
      ],
      "text/plain": [
       "             price         year        mileage  engine_capacity    mark_audi  \\\n",
       "count  2318.000000  2318.000000    2318.000000      2318.000000  2318.000000   \n",
       "mean    971.522433  2005.972390  100013.194996      1507.010785     0.001294   \n",
       "std     288.673112     3.698863   52512.478883       549.585170     0.035960   \n",
       "min      80.000000  1979.000000    2000.000000         9.000000     0.000000   \n",
       "25%     776.000000  2004.000000   67000.000000      1300.000000     0.000000   \n",
       "50%    1000.000000  2006.000000   94000.000000      1490.000000     0.000000   \n",
       "75%    1213.000000  2009.000000  124000.000000      1800.000000     0.000000   \n",
       "max    1400.000000  2015.000000  790000.000000     12340.000000     1.000000   \n",
       "\n",
       "          mark_bmw  mark_chrysler  mark_citroen  mark_daihatsu    mark_ford  \\\n",
       "count  2318.000000    2318.000000   2318.000000    2318.000000  2318.000000   \n",
       "mean      0.011648       0.000431      0.000431       0.024159     0.000431   \n",
       "std       0.107319       0.020770      0.020770       0.153575     0.020770   \n",
       "min       0.000000       0.000000      0.000000       0.000000     0.000000   \n",
       "25%       0.000000       0.000000      0.000000       0.000000     0.000000   \n",
       "50%       0.000000       0.000000      0.000000       0.000000     0.000000   \n",
       "75%       0.000000       0.000000      0.000000       0.000000     0.000000   \n",
       "max       1.000000       1.000000      1.000000       1.000000     1.000000   \n",
       "\n",
       "       ...    drive_4wd    drive_awd  hand_drive_center  hand_drive_lhd  \\\n",
       "count  ...  2318.000000  2318.000000        2318.000000     2318.000000   \n",
       "mean   ...     0.082830     0.002157           0.000431        0.006903   \n",
       "std    ...     0.275685     0.046404           0.020770        0.082812   \n",
       "min    ...     0.000000     0.000000           0.000000        0.000000   \n",
       "25%    ...     0.000000     0.000000           0.000000        0.000000   \n",
       "50%    ...     0.000000     0.000000           0.000000        0.000000   \n",
       "75%    ...     0.000000     0.000000           0.000000        0.000000   \n",
       "max    ...     1.000000     1.000000           1.000000        1.000000   \n",
       "\n",
       "       hand_drive_rhd     fuel_cng  fuel_diesel  fuel_gasoline  fuel_hybrid  \\\n",
       "count     2318.000000  2318.000000  2318.000000    2318.000000  2318.000000   \n",
       "mean         0.992666     0.000431     0.007765       0.987921     0.000863   \n",
       "std          0.085342     0.020770     0.087797       0.109264     0.029367   \n",
       "min          0.000000     0.000000     0.000000       0.000000     0.000000   \n",
       "25%          1.000000     0.000000     0.000000       1.000000     0.000000   \n",
       "50%          1.000000     0.000000     0.000000       1.000000     0.000000   \n",
       "75%          1.000000     0.000000     0.000000       1.000000     0.000000   \n",
       "max          1.000000     1.000000     1.000000       1.000000     1.000000   \n",
       "\n",
       "          fuel_lpg  \n",
       "count  2318.000000  \n",
       "mean      0.003020  \n",
       "std       0.054882  \n",
       "min       0.000000  \n",
       "25%       0.000000  \n",
       "50%       0.000000  \n",
       "75%       0.000000  \n",
       "max       1.000000  \n",
       "\n",
       "[8 rows x 304 columns]"
      ]
     },
     "execution_count": 180,
     "metadata": {},
     "output_type": "execute_result"
    }
   ],
   "source": [
    "dataset_onehot.describe()"
   ]
  },
  {
   "cell_type": "code",
   "execution_count": 181,
   "metadata": {},
   "outputs": [
    {
     "data": {
      "text/html": [
       "<div>\n",
       "<style scoped>\n",
       "    .dataframe tbody tr th:only-of-type {\n",
       "        vertical-align: middle;\n",
       "    }\n",
       "\n",
       "    .dataframe tbody tr th {\n",
       "        vertical-align: top;\n",
       "    }\n",
       "\n",
       "    .dataframe thead th {\n",
       "        text-align: right;\n",
       "    }\n",
       "</style>\n",
       "<table border=\"1\" class=\"dataframe\">\n",
       "  <thead>\n",
       "    <tr style=\"text-align: right;\">\n",
       "      <th></th>\n",
       "      <th>price</th>\n",
       "      <th>year</th>\n",
       "      <th>mileage</th>\n",
       "      <th>engine_capacity</th>\n",
       "      <th>mark_audi</th>\n",
       "      <th>mark_bmw</th>\n",
       "      <th>mark_chrysler</th>\n",
       "      <th>mark_citroen</th>\n",
       "      <th>mark_daihatsu</th>\n",
       "      <th>mark_ford</th>\n",
       "      <th>...</th>\n",
       "      <th>drive_4wd</th>\n",
       "      <th>drive_awd</th>\n",
       "      <th>hand_drive_center</th>\n",
       "      <th>hand_drive_lhd</th>\n",
       "      <th>hand_drive_rhd</th>\n",
       "      <th>fuel_cng</th>\n",
       "      <th>fuel_diesel</th>\n",
       "      <th>fuel_gasoline</th>\n",
       "      <th>fuel_hybrid</th>\n",
       "      <th>fuel_lpg</th>\n",
       "    </tr>\n",
       "  </thead>\n",
       "  <tbody>\n",
       "    <tr>\n",
       "      <th>price</th>\n",
       "      <td>1.000000</td>\n",
       "      <td>-0.211092</td>\n",
       "      <td>0.021581</td>\n",
       "      <td>0.173748</td>\n",
       "      <td>0.006920</td>\n",
       "      <td>0.080173</td>\n",
       "      <td>-0.024943</td>\n",
       "      <td>0.009536</td>\n",
       "      <td>-0.029753</td>\n",
       "      <td>0.027244</td>\n",
       "      <td>...</td>\n",
       "      <td>0.030856</td>\n",
       "      <td>0.053754</td>\n",
       "      <td>-0.048338</td>\n",
       "      <td>0.065024</td>\n",
       "      <td>-0.051332</td>\n",
       "      <td>0.009248</td>\n",
       "      <td>0.055712</td>\n",
       "      <td>-0.059035</td>\n",
       "      <td>-0.003210</td>\n",
       "      <td>0.026625</td>\n",
       "    </tr>\n",
       "    <tr>\n",
       "      <th>year</th>\n",
       "      <td>-0.211092</td>\n",
       "      <td>1.000000</td>\n",
       "      <td>0.086065</td>\n",
       "      <td>-0.142460</td>\n",
       "      <td>-0.009466</td>\n",
       "      <td>-0.038331</td>\n",
       "      <td>-0.027934</td>\n",
       "      <td>-0.011080</td>\n",
       "      <td>-0.029216</td>\n",
       "      <td>-0.011080</td>\n",
       "      <td>...</td>\n",
       "      <td>-0.233081</td>\n",
       "      <td>-0.060001</td>\n",
       "      <td>-0.151524</td>\n",
       "      <td>-0.044466</td>\n",
       "      <td>0.080025</td>\n",
       "      <td>-0.011080</td>\n",
       "      <td>-0.067119</td>\n",
       "      <td>0.073927</td>\n",
       "      <td>0.043925</td>\n",
       "      <td>-0.059119</td>\n",
       "    </tr>\n",
       "    <tr>\n",
       "      <th>mileage</th>\n",
       "      <td>0.021581</td>\n",
       "      <td>0.086065</td>\n",
       "      <td>1.000000</td>\n",
       "      <td>0.130362</td>\n",
       "      <td>-0.026071</td>\n",
       "      <td>-0.060424</td>\n",
       "      <td>-0.006268</td>\n",
       "      <td>-0.011085</td>\n",
       "      <td>0.044320</td>\n",
       "      <td>-0.005545</td>\n",
       "      <td>...</td>\n",
       "      <td>0.112411</td>\n",
       "      <td>0.029221</td>\n",
       "      <td>-0.035619</td>\n",
       "      <td>0.019173</td>\n",
       "      <td>-0.009936</td>\n",
       "      <td>-0.007319</td>\n",
       "      <td>0.085708</td>\n",
       "      <td>-0.153863</td>\n",
       "      <td>-0.005605</td>\n",
       "      <td>0.174982</td>\n",
       "    </tr>\n",
       "    <tr>\n",
       "      <th>engine_capacity</th>\n",
       "      <td>0.173748</td>\n",
       "      <td>-0.142460</td>\n",
       "      <td>0.130362</td>\n",
       "      <td>1.000000</td>\n",
       "      <td>0.023563</td>\n",
       "      <td>0.064692</td>\n",
       "      <td>0.018639</td>\n",
       "      <td>0.018261</td>\n",
       "      <td>-0.232115</td>\n",
       "      <td>0.029982</td>\n",
       "      <td>...</td>\n",
       "      <td>0.059652</td>\n",
       "      <td>-0.003639</td>\n",
       "      <td>-0.056638</td>\n",
       "      <td>0.072591</td>\n",
       "      <td>-0.056654</td>\n",
       "      <td>-0.000265</td>\n",
       "      <td>0.102351</td>\n",
       "      <td>-0.112787</td>\n",
       "      <td>-0.011071</td>\n",
       "      <td>0.066836</td>\n",
       "    </tr>\n",
       "    <tr>\n",
       "      <th>mark_audi</th>\n",
       "      <td>0.006920</td>\n",
       "      <td>-0.009466</td>\n",
       "      <td>-0.026071</td>\n",
       "      <td>0.023563</td>\n",
       "      <td>1.000000</td>\n",
       "      <td>-0.003908</td>\n",
       "      <td>-0.000748</td>\n",
       "      <td>-0.000748</td>\n",
       "      <td>-0.005664</td>\n",
       "      <td>-0.000748</td>\n",
       "      <td>...</td>\n",
       "      <td>0.076253</td>\n",
       "      <td>-0.001674</td>\n",
       "      <td>-0.000748</td>\n",
       "      <td>-0.003001</td>\n",
       "      <td>0.003094</td>\n",
       "      <td>-0.000748</td>\n",
       "      <td>-0.003185</td>\n",
       "      <td>0.003981</td>\n",
       "      <td>-0.001058</td>\n",
       "      <td>-0.001981</td>\n",
       "    </tr>\n",
       "    <tr>\n",
       "      <th>...</th>\n",
       "      <td>...</td>\n",
       "      <td>...</td>\n",
       "      <td>...</td>\n",
       "      <td>...</td>\n",
       "      <td>...</td>\n",
       "      <td>...</td>\n",
       "      <td>...</td>\n",
       "      <td>...</td>\n",
       "      <td>...</td>\n",
       "      <td>...</td>\n",
       "      <td>...</td>\n",
       "      <td>...</td>\n",
       "      <td>...</td>\n",
       "      <td>...</td>\n",
       "      <td>...</td>\n",
       "      <td>...</td>\n",
       "      <td>...</td>\n",
       "      <td>...</td>\n",
       "      <td>...</td>\n",
       "      <td>...</td>\n",
       "      <td>...</td>\n",
       "    </tr>\n",
       "    <tr>\n",
       "      <th>fuel_cng</th>\n",
       "      <td>0.009248</td>\n",
       "      <td>-0.011080</td>\n",
       "      <td>-0.007319</td>\n",
       "      <td>-0.000265</td>\n",
       "      <td>-0.000748</td>\n",
       "      <td>-0.002255</td>\n",
       "      <td>-0.000432</td>\n",
       "      <td>-0.000432</td>\n",
       "      <td>-0.003269</td>\n",
       "      <td>-0.000432</td>\n",
       "      <td>...</td>\n",
       "      <td>-0.006243</td>\n",
       "      <td>-0.000966</td>\n",
       "      <td>-0.000432</td>\n",
       "      <td>-0.001732</td>\n",
       "      <td>0.001786</td>\n",
       "      <td>1.000000</td>\n",
       "      <td>-0.001838</td>\n",
       "      <td>-0.187878</td>\n",
       "      <td>-0.000610</td>\n",
       "      <td>-0.001143</td>\n",
       "    </tr>\n",
       "    <tr>\n",
       "      <th>fuel_diesel</th>\n",
       "      <td>0.055712</td>\n",
       "      <td>-0.067119</td>\n",
       "      <td>0.085708</td>\n",
       "      <td>0.102351</td>\n",
       "      <td>-0.003185</td>\n",
       "      <td>-0.009604</td>\n",
       "      <td>-0.001838</td>\n",
       "      <td>-0.001838</td>\n",
       "      <td>-0.013919</td>\n",
       "      <td>-0.001838</td>\n",
       "      <td>...</td>\n",
       "      <td>0.044740</td>\n",
       "      <td>-0.004113</td>\n",
       "      <td>0.234836</td>\n",
       "      <td>0.704956</td>\n",
       "      <td>-0.741210</td>\n",
       "      <td>-0.001838</td>\n",
       "      <td>1.000000</td>\n",
       "      <td>-0.800039</td>\n",
       "      <td>-0.002600</td>\n",
       "      <td>-0.004869</td>\n",
       "    </tr>\n",
       "    <tr>\n",
       "      <th>fuel_gasoline</th>\n",
       "      <td>-0.059035</td>\n",
       "      <td>0.073927</td>\n",
       "      <td>-0.153863</td>\n",
       "      <td>-0.112787</td>\n",
       "      <td>0.003981</td>\n",
       "      <td>0.012004</td>\n",
       "      <td>0.002297</td>\n",
       "      <td>0.002297</td>\n",
       "      <td>0.017398</td>\n",
       "      <td>0.002297</td>\n",
       "      <td>...</td>\n",
       "      <td>-0.024082</td>\n",
       "      <td>0.005141</td>\n",
       "      <td>-0.187878</td>\n",
       "      <td>-0.563162</td>\n",
       "      <td>0.592192</td>\n",
       "      <td>-0.187878</td>\n",
       "      <td>-0.800039</td>\n",
       "      <td>1.000000</td>\n",
       "      <td>-0.265757</td>\n",
       "      <td>-0.497723</td>\n",
       "    </tr>\n",
       "    <tr>\n",
       "      <th>fuel_hybrid</th>\n",
       "      <td>-0.003210</td>\n",
       "      <td>0.043925</td>\n",
       "      <td>-0.005605</td>\n",
       "      <td>-0.011071</td>\n",
       "      <td>-0.001058</td>\n",
       "      <td>-0.003190</td>\n",
       "      <td>-0.000610</td>\n",
       "      <td>-0.000610</td>\n",
       "      <td>-0.004624</td>\n",
       "      <td>-0.000610</td>\n",
       "      <td>...</td>\n",
       "      <td>-0.008831</td>\n",
       "      <td>-0.001366</td>\n",
       "      <td>-0.000610</td>\n",
       "      <td>-0.002450</td>\n",
       "      <td>0.002526</td>\n",
       "      <td>-0.000610</td>\n",
       "      <td>-0.002600</td>\n",
       "      <td>-0.265757</td>\n",
       "      <td>1.000000</td>\n",
       "      <td>-0.001617</td>\n",
       "    </tr>\n",
       "    <tr>\n",
       "      <th>fuel_lpg</th>\n",
       "      <td>0.026625</td>\n",
       "      <td>-0.059119</td>\n",
       "      <td>0.174982</td>\n",
       "      <td>0.066836</td>\n",
       "      <td>-0.001981</td>\n",
       "      <td>-0.005975</td>\n",
       "      <td>-0.001143</td>\n",
       "      <td>-0.001143</td>\n",
       "      <td>-0.008660</td>\n",
       "      <td>-0.001143</td>\n",
       "      <td>...</td>\n",
       "      <td>-0.016539</td>\n",
       "      <td>-0.002559</td>\n",
       "      <td>-0.001143</td>\n",
       "      <td>-0.004588</td>\n",
       "      <td>0.004731</td>\n",
       "      <td>-0.001143</td>\n",
       "      <td>-0.004869</td>\n",
       "      <td>-0.497723</td>\n",
       "      <td>-0.001617</td>\n",
       "      <td>1.000000</td>\n",
       "    </tr>\n",
       "  </tbody>\n",
       "</table>\n",
       "<p>304 rows × 304 columns</p>\n",
       "</div>"
      ],
      "text/plain": [
       "                    price      year   mileage  engine_capacity  mark_audi  \\\n",
       "price            1.000000 -0.211092  0.021581         0.173748   0.006920   \n",
       "year            -0.211092  1.000000  0.086065        -0.142460  -0.009466   \n",
       "mileage          0.021581  0.086065  1.000000         0.130362  -0.026071   \n",
       "engine_capacity  0.173748 -0.142460  0.130362         1.000000   0.023563   \n",
       "mark_audi        0.006920 -0.009466 -0.026071         0.023563   1.000000   \n",
       "...                   ...       ...       ...              ...        ...   \n",
       "fuel_cng         0.009248 -0.011080 -0.007319        -0.000265  -0.000748   \n",
       "fuel_diesel      0.055712 -0.067119  0.085708         0.102351  -0.003185   \n",
       "fuel_gasoline   -0.059035  0.073927 -0.153863        -0.112787   0.003981   \n",
       "fuel_hybrid     -0.003210  0.043925 -0.005605        -0.011071  -0.001058   \n",
       "fuel_lpg         0.026625 -0.059119  0.174982         0.066836  -0.001981   \n",
       "\n",
       "                 mark_bmw  mark_chrysler  mark_citroen  mark_daihatsu  \\\n",
       "price            0.080173      -0.024943      0.009536      -0.029753   \n",
       "year            -0.038331      -0.027934     -0.011080      -0.029216   \n",
       "mileage         -0.060424      -0.006268     -0.011085       0.044320   \n",
       "engine_capacity  0.064692       0.018639      0.018261      -0.232115   \n",
       "mark_audi       -0.003908      -0.000748     -0.000748      -0.005664   \n",
       "...                   ...            ...           ...            ...   \n",
       "fuel_cng        -0.002255      -0.000432     -0.000432      -0.003269   \n",
       "fuel_diesel     -0.009604      -0.001838     -0.001838      -0.013919   \n",
       "fuel_gasoline    0.012004       0.002297      0.002297       0.017398   \n",
       "fuel_hybrid     -0.003190      -0.000610     -0.000610      -0.004624   \n",
       "fuel_lpg        -0.005975      -0.001143     -0.001143      -0.008660   \n",
       "\n",
       "                 mark_ford  ...  drive_4wd  drive_awd  hand_drive_center  \\\n",
       "price             0.027244  ...   0.030856   0.053754          -0.048338   \n",
       "year             -0.011080  ...  -0.233081  -0.060001          -0.151524   \n",
       "mileage          -0.005545  ...   0.112411   0.029221          -0.035619   \n",
       "engine_capacity   0.029982  ...   0.059652  -0.003639          -0.056638   \n",
       "mark_audi        -0.000748  ...   0.076253  -0.001674          -0.000748   \n",
       "...                    ...  ...        ...        ...                ...   \n",
       "fuel_cng         -0.000432  ...  -0.006243  -0.000966          -0.000432   \n",
       "fuel_diesel      -0.001838  ...   0.044740  -0.004113           0.234836   \n",
       "fuel_gasoline     0.002297  ...  -0.024082   0.005141          -0.187878   \n",
       "fuel_hybrid      -0.000610  ...  -0.008831  -0.001366          -0.000610   \n",
       "fuel_lpg         -0.001143  ...  -0.016539  -0.002559          -0.001143   \n",
       "\n",
       "                 hand_drive_lhd  hand_drive_rhd  fuel_cng  fuel_diesel  \\\n",
       "price                  0.065024       -0.051332  0.009248     0.055712   \n",
       "year                  -0.044466        0.080025 -0.011080    -0.067119   \n",
       "mileage                0.019173       -0.009936 -0.007319     0.085708   \n",
       "engine_capacity        0.072591       -0.056654 -0.000265     0.102351   \n",
       "mark_audi             -0.003001        0.003094 -0.000748    -0.003185   \n",
       "...                         ...             ...       ...          ...   \n",
       "fuel_cng              -0.001732        0.001786  1.000000    -0.001838   \n",
       "fuel_diesel            0.704956       -0.741210 -0.001838     1.000000   \n",
       "fuel_gasoline         -0.563162        0.592192 -0.187878    -0.800039   \n",
       "fuel_hybrid           -0.002450        0.002526 -0.000610    -0.002600   \n",
       "fuel_lpg              -0.004588        0.004731 -0.001143    -0.004869   \n",
       "\n",
       "                 fuel_gasoline  fuel_hybrid  fuel_lpg  \n",
       "price                -0.059035    -0.003210  0.026625  \n",
       "year                  0.073927     0.043925 -0.059119  \n",
       "mileage              -0.153863    -0.005605  0.174982  \n",
       "engine_capacity      -0.112787    -0.011071  0.066836  \n",
       "mark_audi             0.003981    -0.001058 -0.001981  \n",
       "...                        ...          ...       ...  \n",
       "fuel_cng             -0.187878    -0.000610 -0.001143  \n",
       "fuel_diesel          -0.800039    -0.002600 -0.004869  \n",
       "fuel_gasoline         1.000000    -0.265757 -0.497723  \n",
       "fuel_hybrid          -0.265757     1.000000 -0.001617  \n",
       "fuel_lpg             -0.497723    -0.001617  1.000000  \n",
       "\n",
       "[304 rows x 304 columns]"
      ]
     },
     "execution_count": 181,
     "metadata": {},
     "output_type": "execute_result"
    }
   ],
   "source": [
    "dataset_onehot.corr()"
   ]
  },
  {
   "cell_type": "code",
   "execution_count": 182,
   "metadata": {},
   "outputs": [],
   "source": [
    "X = dataset_onehot.iloc[:,1:]\n",
    "y = dataset_onehot[['price']]"
   ]
  },
  {
   "cell_type": "code",
   "execution_count": 183,
   "metadata": {},
   "outputs": [],
   "source": [
    "from sklearn.model_selection import train_test_split\n",
    "X_train,X_test,y_train,y_test= train_test_split(X,y,test_size=0.3)"
   ]
  },
  {
   "cell_type": "code",
   "execution_count": 184,
   "metadata": {},
   "outputs": [],
   "source": [
    "lr2 = LinearRegression()"
   ]
  },
  {
   "cell_type": "code",
   "execution_count": 185,
   "metadata": {},
   "outputs": [
    {
     "data": {
      "text/plain": [
       "LinearRegression()"
      ]
     },
     "execution_count": 185,
     "metadata": {},
     "output_type": "execute_result"
    }
   ],
   "source": [
    "lr2.fit(X_train,y_train)"
   ]
  },
  {
   "cell_type": "code",
   "execution_count": 186,
   "metadata": {},
   "outputs": [
    {
     "data": {
      "text/plain": [
       "array([[-2.33899559e+00,  3.74084301e-05,  4.08047731e-02,\n",
       "        -1.49530943e+01,  1.15810475e+02, -2.17295055e+02,\n",
       "         5.88587525e-08, -8.11811904e+01,  2.72848695e-08,\n",
       "        -1.39501784e+02,  1.55990833e+02, -5.49232289e+01,\n",
       "         4.19509599e+02,  1.03725154e+02,  1.66341501e+02,\n",
       "         2.46436798e+02, -1.49249259e+02, -1.60114126e-08,\n",
       "        -9.22272419e+01, -2.55501844e+02, -1.32081799e+02,\n",
       "         3.87593152e+01, -4.47221135e+01, -1.48063919e+02,\n",
       "        -3.80323399e-08, -1.27804480e+02, -4.12720003e+01,\n",
       "        -2.45443131e+00,  4.48134146e+01,  3.14105358e+01,\n",
       "         1.78433815e+02,  1.54871491e+02, -4.44574084e-08,\n",
       "         8.16999178e+01,  8.12862311e-09, -4.42281472e+02,\n",
       "        -7.47654713e+00, -7.47654713e+00, -3.50579361e+01,\n",
       "         1.58801079e+02,  1.75381788e+02,  3.51024220e+02,\n",
       "        -3.62949227e+02, -1.40722444e+02,  1.07004479e+02,\n",
       "        -8.60887760e+01,  1.33271215e+02,  1.24773730e+02,\n",
       "        -4.88442069e+00,  1.34242447e+02, -6.78053303e+01,\n",
       "        -1.89521091e+00,  1.30068252e+02, -3.00030011e+02,\n",
       "         4.62097652e+01, -3.52767652e+02, -2.66742182e+02,\n",
       "         2.59486853e+02, -5.52657298e-09,  2.80611494e+02,\n",
       "        -2.58913594e+02,  1.78659400e+02,  4.11034193e-08,\n",
       "        -4.97944075e+02,  3.93291063e+02, -2.36532242e+02,\n",
       "         1.93944958e+02, -4.89501742e+01,  2.17211215e+02,\n",
       "         2.15962056e+01,  3.12253383e+02,  2.15962056e+01,\n",
       "        -1.86767974e+02,  2.27287827e+02, -2.62068056e-08,\n",
       "        -1.20480333e+02,  2.97174304e+02,  1.78433815e+02,\n",
       "        -1.46473429e+02, -4.31739626e+01,  3.39548816e+01,\n",
       "         5.04474258e-08,  2.80612135e+02, -1.25459718e+01,\n",
       "        -1.49164734e-08, -2.69726924e+01, -4.22171809e-08,\n",
       "        -5.40229307e+01, -1.39501784e+02,  6.87295376e-08,\n",
       "         9.18961661e+01,  1.16645384e+02,  4.01145495e+02,\n",
       "        -1.88767788e+02,  3.44220958e+02, -8.10310196e+01,\n",
       "        -5.45465260e+02,  1.28879883e+02, -3.91042931e-09,\n",
       "        -2.18035717e+02,  2.46163159e+02, -1.44543378e+02,\n",
       "        -2.49191241e+02,  6.43834210e+01,  1.67408397e+02,\n",
       "         9.10767642e+01,  2.06866459e+02, -6.10253139e+01,\n",
       "         1.69111557e+01, -1.98528165e+02, -3.38823536e+02,\n",
       "        -4.33091435e+02, -2.19017977e-08,  4.34877744e+02,\n",
       "        -4.67134953e-08,  5.41901852e+01, -2.21878674e+01,\n",
       "        -5.70605749e-08,  1.02501581e+02,  1.55990833e+02,\n",
       "        -4.92881753e-08, -3.75476292e+02, -2.84666308e+02,\n",
       "         2.78802279e-08, -2.00767182e+02,  1.49077564e+02,\n",
       "         8.40419260e+01,  6.13334999e+01, -4.91492322e-08,\n",
       "        -3.61541481e-08, -4.18720194e+02,  2.91490854e+00,\n",
       "         2.64591125e+02, -3.37244019e+02,  2.25412318e+01,\n",
       "        -3.66093469e+00, -3.89664115e+01,  2.58026206e+01,\n",
       "         7.79040164e+01, -1.27804480e+02,  1.72536798e+02,\n",
       "        -4.62576626e+02, -3.48917979e-08,  3.00227521e+02,\n",
       "        -1.39548524e+02,  1.08007136e+02,  7.06513248e-09,\n",
       "        -7.28100591e+01, -3.96244524e+01,  2.90442496e+02,\n",
       "        -9.92847760e-09,  1.68302594e+02,  2.23376090e+02,\n",
       "         1.26130246e+02,  8.59455291e+01, -3.31030262e+02,\n",
       "        -5.34924432e+01, -2.77137005e+02, -1.27842569e+02,\n",
       "         1.65816876e+02,  1.69343836e+02,  1.03826068e+02,\n",
       "         2.74581065e+02, -1.02671917e+02, -1.49249259e+02,\n",
       "        -3.13641992e+02,  1.21222001e-08, -2.11185665e-08,\n",
       "         2.33637742e-09, -4.10337335e+01,  3.05617359e+01,\n",
       "        -3.02118287e+01,  9.06551591e+01,  2.04846864e+02,\n",
       "        -2.84134635e+02, -6.98852219e+01, -7.13681546e+02,\n",
       "         2.03223512e+01, -4.10258849e-09,  1.87427868e+02,\n",
       "        -5.03685739e+02, -1.47417496e+02,  2.66565623e+01,\n",
       "         5.31769075e+02, -2.80262408e+01, -2.15660270e+01,\n",
       "        -2.99213346e+02, -1.93452903e+01,  3.56067048e+02,\n",
       "        -1.12827276e+02, -8.18147328e-10, -3.09385836e+02,\n",
       "        -2.97718999e+02, -2.65985045e+02,  3.92638551e+02,\n",
       "         3.99693626e+01,  1.93301587e+02,  2.12118016e+02,\n",
       "        -3.73142939e-09,  9.28097139e+01, -2.75547867e+01,\n",
       "        -3.81764102e+02, -1.34213757e+02,  5.35271544e+00,\n",
       "         2.02442711e+02,  3.45792699e+02, -2.39513008e+02,\n",
       "         4.44670364e+02,  8.66329832e+01, -2.76639682e+02,\n",
       "        -1.28030148e+02, -7.03574484e+02, -3.40244745e+02,\n",
       "        -1.19568761e+02, -1.64260427e-09, -1.51820800e+02,\n",
       "        -1.38248688e+02,  1.16776197e+02, -1.28831749e+02,\n",
       "        -4.40308135e+01,  2.60339676e+02,  3.16634286e+02,\n",
       "        -1.00628803e-08,  3.16114423e+02, -8.12987569e+02,\n",
       "        -2.17295055e+02,  6.41629180e+00, -6.85649111e+01,\n",
       "        -6.59674327e+01, -1.53021203e+01,  2.99951370e+02,\n",
       "        -3.94888018e+02, -1.89297930e+02,  2.27852346e+02,\n",
       "         1.22880730e+02,  4.71093755e+01,  4.84976124e+01,\n",
       "         1.49650327e+02, -3.35434772e+02,  2.85910941e+02,\n",
       "         1.76861997e+01,  6.14846840e-09,  4.62010134e+01,\n",
       "        -1.31926531e+02,  2.55106755e+01,  2.83973039e+02,\n",
       "         4.77514461e+01, -4.90767225e+01,  2.60351668e+02,\n",
       "         3.68189035e-09, -5.07040784e+02,  2.90102537e+02,\n",
       "         2.91817636e+02,  3.51536945e+01,  1.38920218e+02,\n",
       "        -1.32399635e+02,  2.96143007e+02,  2.36740120e+02,\n",
       "        -8.04163847e-10,  1.76517764e+02, -2.33625351e+01,\n",
       "         1.71919750e+02, -8.21383624e+01, -1.42110992e+01,\n",
       "         0.00000000e+00, -2.53849031e+02, -2.37307753e+02,\n",
       "         1.01957325e+01, -1.48063919e+02, -3.87938606e+01,\n",
       "         0.00000000e+00,  3.87593151e+01,  0.00000000e+00,\n",
       "        -3.11972270e+01,  3.52444837e+02,  8.60246534e+01,\n",
       "        -2.09842399e+01,  3.09597387e+02,  0.00000000e+00,\n",
       "         1.96312352e+02,  1.30855586e+02, -4.37767236e+01,\n",
       "        -4.53524098e+01,  5.77000234e+01, -7.01974875e+01,\n",
       "         1.66341501e+02,  0.00000000e+00,  4.73314097e+02,\n",
       "         2.77782431e+02,  3.62541701e+01, -9.20519447e+01,\n",
       "         5.57977746e+01, -5.69785706e+01, -8.58307637e+01,\n",
       "         1.42809334e+02, -1.49249259e+02,  2.26848148e+01,\n",
       "         1.26564444e+02,  0.00000000e+00, -8.03250434e+01,\n",
       "         6.30850852e+01, -6.21893234e+01,  7.94292818e+01]])"
      ]
     },
     "execution_count": 186,
     "metadata": {},
     "output_type": "execute_result"
    }
   ],
   "source": [
    "lr2.coef_"
   ]
  },
  {
   "cell_type": "code",
   "execution_count": 187,
   "metadata": {},
   "outputs": [
    {
     "data": {
      "text/plain": [
       "array([5486.236784])"
      ]
     },
     "execution_count": 187,
     "metadata": {},
     "output_type": "execute_result"
    }
   ],
   "source": [
    "lr2.intercept_"
   ]
  },
  {
   "cell_type": "code",
   "execution_count": 188,
   "metadata": {},
   "outputs": [],
   "source": [
    "result = lr2.predict(X_test)"
   ]
  },
  {
   "cell_type": "code",
   "execution_count": 189,
   "metadata": {},
   "outputs": [
    {
     "name": "stdout",
     "output_type": "stream",
     "text": [
      "Mean absolute error = 214.95375329562518\n",
      "Mean squared error = 73232.205272523\n"
     ]
    }
   ],
   "source": [
    "print(\"Mean absolute error =\", sklearn.metrics.mean_absolute_error(y_test, result)) \n",
    "print(\"Mean squared error =\", sklearn.metrics.mean_squared_error(y_test,result)) "
   ]
  },
  {
   "cell_type": "code",
   "execution_count": null,
   "metadata": {},
   "outputs": [],
   "source": []
  }
 ],
 "metadata": {
  "kernelspec": {
   "display_name": "Python 3",
   "language": "python",
   "name": "python3"
  },
  "language_info": {
   "codemirror_mode": {
    "name": "ipython",
    "version": 3
   },
   "file_extension": ".py",
   "mimetype": "text/x-python",
   "name": "python",
   "nbconvert_exporter": "python",
   "pygments_lexer": "ipython3",
   "version": "3.8.5"
  }
 },
 "nbformat": 4,
 "nbformat_minor": 4
}
